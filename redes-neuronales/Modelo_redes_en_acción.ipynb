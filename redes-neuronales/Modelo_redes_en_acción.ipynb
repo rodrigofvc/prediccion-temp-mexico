{
  "cells": [
    {
      "cell_type": "markdown",
      "source": [
        "# Carga de archivos y bibliotecas"
      ],
      "metadata": {
        "id": "EI1RBC9_lIBk"
      }
    },
    {
      "cell_type": "code",
      "execution_count": 23,
      "metadata": {
        "colab": {
          "base_uri": "https://localhost:8080/"
        },
        "id": "BMb3-nAxcAYO",
        "outputId": "998f9b79-f3b4-480d-9ff3-8d2c0e22312b"
      },
      "outputs": [
        {
          "output_type": "stream",
          "name": "stdout",
          "text": [
            "--2022-11-28 10:08:54--  https://github.com/rodrigofvc/prediccion-temp-mexico/archive/refs/heads/main.zip\n",
            "Resolving github.com (github.com)... 140.82.112.3\n",
            "Connecting to github.com (github.com)|140.82.112.3|:443... connected.\n",
            "HTTP request sent, awaiting response... 302 Found\n",
            "Location: https://codeload.github.com/rodrigofvc/prediccion-temp-mexico/zip/refs/heads/main [following]\n",
            "--2022-11-28 10:08:54--  https://codeload.github.com/rodrigofvc/prediccion-temp-mexico/zip/refs/heads/main\n",
            "Resolving codeload.github.com (codeload.github.com)... 140.82.114.9\n",
            "Connecting to codeload.github.com (codeload.github.com)|140.82.114.9|:443... connected.\n",
            "HTTP request sent, awaiting response... 200 OK\n",
            "Length: unspecified [application/zip]\n",
            "Saving to: ‘main.zip’\n",
            "\n",
            "main.zip                [  <=>               ] 760.50M  17.0MB/s    in 39s     \n",
            "\n",
            "2022-11-28 10:09:37 (19.5 MB/s) - ‘main.zip’ saved [797437106]\n",
            "\n"
          ]
        }
      ],
      "source": [
        "!rm -rf data\n",
        "!rm -rf regresion\n",
        "!rm -rf utilidades\n",
        "!wget https://github.com/rodrigofvc/prediccion-temp-mexico/archive/refs/heads/main.zip\n",
        "\n",
        "import zipfile\n",
        "\n",
        "with zipfile.ZipFile(\"main.zip\",\"r\") as zip_ref:\n",
        "  zip_ref.extractall(\".\")\n",
        "\n",
        "!cp -rf \"./prediccion-temp-mexico-main/data\" \".\"\n",
        "!cp -rf \"./prediccion-temp-mexico-main/regresion\" \".\"\n",
        "!cp -rf \"./prediccion-temp-mexico-main/utilidades\" \".\"\n",
        "!rm -rf \"prediccion-temp-mexico-main\"\n",
        "!rm -rf \"sample_data\"\n",
        "!rm \"main.zip\""
      ]
    },
    {
      "cell_type": "code",
      "execution_count": 24,
      "metadata": {
        "colab": {
          "base_uri": "https://localhost:8080/"
        },
        "id": "SBOqucPRcAYh",
        "outputId": "47078278-d9ef-4b83-ae54-63282a63fa9f"
      },
      "outputs": [
        {
          "output_type": "stream",
          "name": "stdout",
          "text": [
            "Looking in indexes: https://pypi.org/simple, https://us-python.pkg.dev/colab-wheels/public/simple/\n",
            "Requirement already satisfied: pytorch-lightning in /usr/local/lib/python3.7/dist-packages (1.8.3.post1)\n",
            "Requirement already satisfied: numpy>=1.17.2 in /usr/local/lib/python3.7/dist-packages (from pytorch-lightning) (1.21.6)\n",
            "Requirement already satisfied: PyYAML>=5.4 in /usr/local/lib/python3.7/dist-packages (from pytorch-lightning) (6.0)\n",
            "Requirement already satisfied: fsspec[http]>2021.06.0 in /usr/local/lib/python3.7/dist-packages (from pytorch-lightning) (2022.11.0)\n",
            "Requirement already satisfied: packaging>=17.0 in /usr/local/lib/python3.7/dist-packages (from pytorch-lightning) (21.3)\n",
            "Requirement already satisfied: tqdm>=4.57.0 in /usr/local/lib/python3.7/dist-packages (from pytorch-lightning) (4.64.1)\n",
            "Requirement already satisfied: typing-extensions>=4.0.0 in /usr/local/lib/python3.7/dist-packages (from pytorch-lightning) (4.1.1)\n",
            "Requirement already satisfied: tensorboardX>=2.2 in /usr/local/lib/python3.7/dist-packages (from pytorch-lightning) (2.5.1)\n",
            "Requirement already satisfied: torchmetrics>=0.7.0 in /usr/local/lib/python3.7/dist-packages (from pytorch-lightning) (0.10.3)\n",
            "Requirement already satisfied: lightning-utilities==0.3.* in /usr/local/lib/python3.7/dist-packages (from pytorch-lightning) (0.3.0)\n",
            "Requirement already satisfied: torch>=1.9.* in /usr/local/lib/python3.7/dist-packages (from pytorch-lightning) (1.12.1+cu113)\n",
            "Requirement already satisfied: fire in /usr/local/lib/python3.7/dist-packages (from lightning-utilities==0.3.*->pytorch-lightning) (0.4.0)\n",
            "Requirement already satisfied: aiohttp!=4.0.0a0,!=4.0.0a1 in /usr/local/lib/python3.7/dist-packages (from fsspec[http]>2021.06.0->pytorch-lightning) (3.8.3)\n",
            "Requirement already satisfied: requests in /usr/local/lib/python3.7/dist-packages (from fsspec[http]>2021.06.0->pytorch-lightning) (2.23.0)\n",
            "Requirement already satisfied: frozenlist>=1.1.1 in /usr/local/lib/python3.7/dist-packages (from aiohttp!=4.0.0a0,!=4.0.0a1->fsspec[http]>2021.06.0->pytorch-lightning) (1.3.3)\n",
            "Requirement already satisfied: attrs>=17.3.0 in /usr/local/lib/python3.7/dist-packages (from aiohttp!=4.0.0a0,!=4.0.0a1->fsspec[http]>2021.06.0->pytorch-lightning) (22.1.0)\n",
            "Requirement already satisfied: yarl<2.0,>=1.0 in /usr/local/lib/python3.7/dist-packages (from aiohttp!=4.0.0a0,!=4.0.0a1->fsspec[http]>2021.06.0->pytorch-lightning) (1.8.1)\n",
            "Requirement already satisfied: charset-normalizer<3.0,>=2.0 in /usr/local/lib/python3.7/dist-packages (from aiohttp!=4.0.0a0,!=4.0.0a1->fsspec[http]>2021.06.0->pytorch-lightning) (2.1.1)\n",
            "Requirement already satisfied: asynctest==0.13.0 in /usr/local/lib/python3.7/dist-packages (from aiohttp!=4.0.0a0,!=4.0.0a1->fsspec[http]>2021.06.0->pytorch-lightning) (0.13.0)\n",
            "Requirement already satisfied: async-timeout<5.0,>=4.0.0a3 in /usr/local/lib/python3.7/dist-packages (from aiohttp!=4.0.0a0,!=4.0.0a1->fsspec[http]>2021.06.0->pytorch-lightning) (4.0.2)\n",
            "Requirement already satisfied: multidict<7.0,>=4.5 in /usr/local/lib/python3.7/dist-packages (from aiohttp!=4.0.0a0,!=4.0.0a1->fsspec[http]>2021.06.0->pytorch-lightning) (6.0.2)\n",
            "Requirement already satisfied: aiosignal>=1.1.2 in /usr/local/lib/python3.7/dist-packages (from aiohttp!=4.0.0a0,!=4.0.0a1->fsspec[http]>2021.06.0->pytorch-lightning) (1.3.1)\n",
            "Requirement already satisfied: pyparsing!=3.0.5,>=2.0.2 in /usr/local/lib/python3.7/dist-packages (from packaging>=17.0->pytorch-lightning) (3.0.9)\n",
            "Requirement already satisfied: protobuf<=3.20.1,>=3.8.0 in /usr/local/lib/python3.7/dist-packages (from tensorboardX>=2.2->pytorch-lightning) (3.19.6)\n",
            "Requirement already satisfied: idna>=2.0 in /usr/local/lib/python3.7/dist-packages (from yarl<2.0,>=1.0->aiohttp!=4.0.0a0,!=4.0.0a1->fsspec[http]>2021.06.0->pytorch-lightning) (2.10)\n",
            "Requirement already satisfied: six in /usr/local/lib/python3.7/dist-packages (from fire->lightning-utilities==0.3.*->pytorch-lightning) (1.15.0)\n",
            "Requirement already satisfied: termcolor in /usr/local/lib/python3.7/dist-packages (from fire->lightning-utilities==0.3.*->pytorch-lightning) (2.1.0)\n",
            "Requirement already satisfied: urllib3!=1.25.0,!=1.25.1,<1.26,>=1.21.1 in /usr/local/lib/python3.7/dist-packages (from requests->fsspec[http]>2021.06.0->pytorch-lightning) (1.24.3)\n",
            "Requirement already satisfied: certifi>=2017.4.17 in /usr/local/lib/python3.7/dist-packages (from requests->fsspec[http]>2021.06.0->pytorch-lightning) (2022.9.24)\n",
            "Requirement already satisfied: chardet<4,>=3.0.2 in /usr/local/lib/python3.7/dist-packages (from requests->fsspec[http]>2021.06.0->pytorch-lightning) (3.0.4)\n"
          ]
        }
      ],
      "source": [
        "!pip install pytorch-lightning\n",
        "from utilidades.Lector_Futuro import Lector_Futuro\n",
        "from utilidades.Lector import Lector\n",
        "import sys\n",
        "\n",
        "# Utilerias\n",
        "import os\n",
        "import math\n",
        "import random\n",
        "import datetime\n",
        "\n",
        "# Matrices y DataFrame\n",
        "import numpy as np\n",
        "import pandas as pd\n",
        "\n",
        "# Lightning\n",
        "from pytorch_lightning import seed_everything\n",
        "import pytorch_lightning as pl\n",
        "import torch.nn.functional as F\n",
        "from torchvision import datasets, transforms\n",
        "from pytorch_lightning.loggers import TensorBoardLogger\n",
        "from torchmetrics import MeanAbsoluteError\n",
        "\n",
        "# Redes neuronales\n",
        "import torch\n",
        "import torch.nn as nn\n",
        "import torch.optim as optim\n",
        "\n",
        "import matplotlib.pyplot as plt\n",
        "from matplotlib.pyplot import figure\n",
        "import matplotlib.dates as mdates"
      ]
    },
    {
      "cell_type": "code",
      "source": [
        "SEED = 99\n",
        "def set_seed(seed):\n",
        "    \"\"\"Initializes pseudo-random number generators.\"\"\"\n",
        "    random.seed(seed)\n",
        "    np.random.seed(seed)\n",
        "    torch.manual_seed(seed)\n",
        "set_seed(SEED)"
      ],
      "metadata": {
        "id": "L2XFSNzgs0Dk"
      },
      "execution_count": 25,
      "outputs": []
    },
    {
      "cell_type": "code",
      "source": [
        "from sklearn.preprocessing import MinMaxScaler\n",
        "\n",
        "def obtenerDS(hora, rutaArchivo):\n",
        "  # Lee los datos del directorio\n",
        "  l = Lector_Futuro(rutaArchivo)\n",
        "  X, Y = l.get_data(hora, pasosPasado=1, pasosFuturo=1, excluirColumnasX=['Direcci�n del Viento (grados)', 'Direcci�n de r�faga (grados)'], agregarHoraLocalY=True, show=True)\n",
        "  # El conjunto de datos se filtra a un intervalo especifico\n",
        "  #lp = Lector(rutaArchivo)\n",
        "  #fecha_cercana = \"2022-11-27 \" + hora\n",
        "  #fecha_lejana = \"2022-11-22 \" + hora\n",
        "  #X_out, Y_out = lp.intervalo(X, Y, fecha_cercana, fecha_lejana)\n",
        "  #X = X_out\n",
        "  #Y = Y_out\n",
        "\n",
        "  # Min Max scaler se entrena con X de entrenamiento\n",
        "  scaler = MinMaxScaler()\n",
        "  scaler.fit(X)\n",
        "\n",
        "  # Se escalan ambos X (entrenamiento y prueba) con el scaler previamente\n",
        "  X_scaled = scaler.transform(X)\n",
        "  \n",
        "  return X_scaled, Y"
      ],
      "metadata": {
        "id": "6ia-njyQlz6C"
      },
      "execution_count": 26,
      "outputs": []
    },
    {
      "cell_type": "code",
      "source": [
        "def graficar(Y, predictions_list, hora):\n",
        "  # Muestra la grafica con las predicciones de dias futuros\n",
        "  fig1 = plt.figure()\n",
        "  axs1 = fig1.add_subplot(1, 1, 1)\n",
        "  axs1.set_xlabel(\"Fecha (YYYY-MM-DD)\")\n",
        "  axs1.set_ylabel(\"Temperatura (°C)\")\n",
        "  axs1.plot(Y['Hora Local'].to_numpy(),Y['Temperatura del Aire (�C) t'].to_list(), '-o', label='Temperatura real')\n",
        "  axs1.plot(Y['Hora Local'].to_numpy(),predictions_list, '-o', label='Temperatura predecida')\n",
        "  axs1.legend(loc=\"upper left\")\n",
        "  axs1.set_title(f'Prediccion temperatura {hora} (1 dia a futuro)')\n",
        "  fig1.set_size_inches(8,4)\n",
        "  plt.grid()\n",
        "  plt.gca().xaxis.set_major_locator(mdates.DayLocator(interval=1))\n",
        "  #plt.gca().tick_params(axis='x', labelrotation=45)\n",
        "  fig1.savefig('pred.png')\n",
        "  from google.colab import files\n",
        "  files.download(\"pred.png\")"
      ],
      "metadata": {
        "id": "wJ16WTeomBNZ"
      },
      "execution_count": 27,
      "outputs": []
    },
    {
      "cell_type": "code",
      "source": [
        "from torch.nn.modules.activation import LeakyReLU\n",
        "class MLP(pl.LightningModule):\n",
        "\n",
        "  def __init__(self, numEntradas, neuronasOcultas=[100,100], lr=0.000001):\n",
        "    # Se llama al inicializador de la clase padre\n",
        "    super(MLP, self).__init__()\n",
        "\n",
        "    # Se define el numero de entradas y salidas del modelo\n",
        "    self.numEntradas = numEntradas\n",
        "    self.numSalidas = 1\n",
        "    self.neuronasOcultas = neuronasOcultas\n",
        "\n",
        "    # Se define la tasa de aprendizaje\n",
        "    self.lr = lr\n",
        "\n",
        "    # Se define la arquitectura del modelo\n",
        "    self.fc1 = nn.Linear(self.numEntradas, self.neuronasOcultas[0])\n",
        "    self.fc2 = nn.Linear(self.neuronasOcultas[0], self.neuronasOcultas[1])\n",
        "    self.out = nn.Linear(self.neuronasOcultas[1], self.numSalidas)\n",
        "          \n",
        "    # Se define la función de pérdida para entrenamiento\n",
        "    self.loss = nn.MSELoss()\n",
        "    \n",
        "  def forward(self, x):\n",
        "    # Se define la función forward (hacia adelante) del modelo\n",
        "    if(type(x) is list):\n",
        "      x = x[0]\n",
        "\n",
        "    x = self.fc1(x)\n",
        "    x = F.leaky_relu(x)\n",
        "    x = self.fc2(x)\n",
        "    x = F.leaky_relu(x)\n",
        "    x = self.out(x)\n",
        "    return x\n",
        "\n",
        "  def configure_optimizers(self):\n",
        "    # Se define como optimizador el descenso por gradiente estocástico (con momento)\n",
        "    return torch.optim.Adam(self.parameters(), lr = self.lr)\n",
        "\n",
        "  # Se definen los pasos de entrenamiento del modelo\n",
        "  def training_step(self, train_batch, batch_idx):\n",
        "    # Se obtienen los datos del lote\n",
        "    x, y = train_batch\n",
        "    # Se hace inferencia para obtener los logits\n",
        "    logits = self.forward(x)\n",
        "    # Se calcula la pérdida con los datos de entrenamiento\n",
        "    loss = self.loss(logits, y)\n",
        "    MAE_obj = MeanAbsoluteError()\n",
        "    MAE_loss = MAE_obj(logits, y)#nn.L1Loss(logits, y)#(y - logits).abs().mean()\n",
        "    RMSE_loss = torch.sqrt(loss)#(y - logits).abs().mean()\n",
        "\n",
        "    output={\n",
        "      \"loss\": loss,\n",
        "      \"MAE_loss\": MAE_loss,\n",
        "      \"RMSE_loss\": RMSE_loss\n",
        "    }\n",
        "\n",
        "    # Retorna la pérdida del lote\n",
        "    return output\n",
        "\n",
        "  # Se definen los pasos de validación del modelo\n",
        "  def validation_step(self, valid_batch, batch_idx):\n",
        "    # Se obtienen los datos del lote\n",
        "    x, y = valid_batch\n",
        "    # Se hace inferencia para obtener los logits\n",
        "    logits = self.forward(x)\n",
        "    #Se calcula la pérdida con los datos de validación\n",
        "    loss = self.loss(logits, y)\n",
        "    MAE_obj = MeanAbsoluteError()\n",
        "    MAE_loss = MAE_obj(logits, y)#nn.L1Loss(logits, y)#(y - logits).abs().mean()\n",
        "    RMSE_loss = torch.sqrt(loss)#(y - logits).abs().mean()\n",
        "\n",
        "    output={\n",
        "      \"loss\": loss,\n",
        "      \"MAE_loss\": MAE_loss,\n",
        "      \"RMSE_loss\": RMSE_loss\n",
        "    }\n",
        "\n",
        "    # Retorna la pérdida del lote\n",
        "    return output\n",
        "\n",
        "  # Esta función se llama cuando cada época de entrenamiento termina\n",
        "  def training_epoch_end(self, outputs):\n",
        "\n",
        "    # Se calcula el promedio de todos los lotes en la época\n",
        "    avg_loss_trn = torch.stack([x['loss'] for x in outputs]).mean()\n",
        "    avg_MAE_loss_trn = torch.stack([x['MAE_loss'] for x in outputs]).mean()\n",
        "    avg_RMSE_loss_trn = torch.stack([x['RMSE_loss'] for x in outputs]).mean()\n",
        "\n",
        "    # Se manda graficar a TensorBoard\n",
        "    self.logger.experiment.add_scalar(\"Pérdida/MSE Entrenamiento\",\n",
        "                                      avg_loss_trn,\n",
        "                                      self.current_epoch)\n",
        "    self.logger.experiment.add_scalar(\"Pérdida/MAE Entrenamiento\",\n",
        "                                      avg_MAE_loss_trn,\n",
        "                                      self.current_epoch)\n",
        "    self.logger.experiment.add_scalar(\"Pérdida/RMSE Entrenamiento\",\n",
        "                                      avg_RMSE_loss_trn,\n",
        "                                      self.current_epoch)\n",
        "    \n",
        "  # Esta función se llama cuando cada época de validación termina\n",
        "  def validation_epoch_end(self, outputs):\n",
        "\n",
        "    # Se calcula el promedio de todos los lotes en la época\n",
        "    avg_loss_val = torch.stack([x['loss'] for x in outputs]).mean()\n",
        "    avg_MAE_loss_trn = torch.stack([x['MAE_loss'] for x in outputs]).mean()\n",
        "    avg_RMSE_loss_trn = torch.stack([x['RMSE_loss'] for x in outputs]).mean()\n",
        "\n",
        "    # Se manda graficar a TensorBoard\n",
        "    self.logger.experiment.add_scalar(\"Pérdida/MSE Validación\",\n",
        "                                      avg_loss_val,\n",
        "                                      self.current_epoch)\n",
        "    self.logger.experiment.add_scalar(\"Pérdida/MAE Validación\",\n",
        "                                      avg_MAE_loss_trn,\n",
        "                                      self.current_epoch)\n",
        "    self.logger.experiment.add_scalar(\"Pérdida/RMSE Validación\",\n",
        "                                      avg_RMSE_loss_trn,\n",
        "                                      self.current_epoch)"
      ],
      "metadata": {
        "id": "gPcIbLthmbZ5"
      },
      "execution_count": 28,
      "outputs": []
    },
    {
      "cell_type": "code",
      "source": [
        "def calculaPredicciones(hora, X):\n",
        "  if(hora == \"09:00:00\"):\n",
        "    nombreModelo = \"CVA-1Dfuturo-1Dpasado-9AM-epoch=59-step=60.ckpt\"\n",
        "  elif(hora == \"14:00:00\"):\n",
        "    nombreModelo = \"CVA-1Dfuturo-1Dpasado-2PM-epoch=49-step=50.ckpt\"\n",
        "  elif(hora == \"21:00:00\"):\n",
        "    nombreModelo = \"CVA-1Dfuturo-1Dpasado-9PM-epoch=49-step=50.ckpt\"\n",
        "    \n",
        "  model = MLP.load_from_checkpoint(nombreModelo, numEntradas=7, neuronasOcultas=[24*2, 12*2], lr=0.01)\n",
        "  model.eval()\n",
        "\n",
        "  with torch.no_grad():\n",
        "      x = torch.Tensor([X])\n",
        "      y_lgts = model(x)\n",
        "      print(y_lgts)\n",
        "\n",
        "  predictions_list = []\n",
        "  for prediction in y_lgts[0]:\n",
        "    predictions_list.append(float(prediction))\n",
        "  predictions_list\n",
        "\n",
        "  return predictions_list"
      ],
      "metadata": {
        "id": "sySN6en6opnI"
      },
      "execution_count": 29,
      "outputs": []
    },
    {
      "cell_type": "markdown",
      "source": [
        "# Subir el modelo pre-entrenado"
      ],
      "metadata": {
        "id": "_2gktRwDca-S"
      }
    },
    {
      "cell_type": "code",
      "execution_count": 30,
      "metadata": {
        "colab": {
          "base_uri": "https://localhost:8080/",
          "height": 55
        },
        "id": "JPfeXQxbcAYj",
        "outputId": "4f933548-75de-4843-8e1e-7abc6ae51539"
      },
      "outputs": [
        {
          "output_type": "display_data",
          "data": {
            "text/plain": [
              "<IPython.core.display.HTML object>"
            ],
            "text/html": [
              "\n",
              "     <input type=\"file\" id=\"files-704def7d-1adf-49dd-ad74-64c0824c23a0\" name=\"files[]\" multiple disabled\n",
              "        style=\"border:none\" />\n",
              "     <output id=\"result-704def7d-1adf-49dd-ad74-64c0824c23a0\">\n",
              "      Upload widget is only available when the cell has been executed in the\n",
              "      current browser session. Please rerun this cell to enable.\n",
              "      </output>\n",
              "      <script>// Copyright 2017 Google LLC\n",
              "//\n",
              "// Licensed under the Apache License, Version 2.0 (the \"License\");\n",
              "// you may not use this file except in compliance with the License.\n",
              "// You may obtain a copy of the License at\n",
              "//\n",
              "//      http://www.apache.org/licenses/LICENSE-2.0\n",
              "//\n",
              "// Unless required by applicable law or agreed to in writing, software\n",
              "// distributed under the License is distributed on an \"AS IS\" BASIS,\n",
              "// WITHOUT WARRANTIES OR CONDITIONS OF ANY KIND, either express or implied.\n",
              "// See the License for the specific language governing permissions and\n",
              "// limitations under the License.\n",
              "\n",
              "/**\n",
              " * @fileoverview Helpers for google.colab Python module.\n",
              " */\n",
              "(function(scope) {\n",
              "function span(text, styleAttributes = {}) {\n",
              "  const element = document.createElement('span');\n",
              "  element.textContent = text;\n",
              "  for (const key of Object.keys(styleAttributes)) {\n",
              "    element.style[key] = styleAttributes[key];\n",
              "  }\n",
              "  return element;\n",
              "}\n",
              "\n",
              "// Max number of bytes which will be uploaded at a time.\n",
              "const MAX_PAYLOAD_SIZE = 100 * 1024;\n",
              "\n",
              "function _uploadFiles(inputId, outputId) {\n",
              "  const steps = uploadFilesStep(inputId, outputId);\n",
              "  const outputElement = document.getElementById(outputId);\n",
              "  // Cache steps on the outputElement to make it available for the next call\n",
              "  // to uploadFilesContinue from Python.\n",
              "  outputElement.steps = steps;\n",
              "\n",
              "  return _uploadFilesContinue(outputId);\n",
              "}\n",
              "\n",
              "// This is roughly an async generator (not supported in the browser yet),\n",
              "// where there are multiple asynchronous steps and the Python side is going\n",
              "// to poll for completion of each step.\n",
              "// This uses a Promise to block the python side on completion of each step,\n",
              "// then passes the result of the previous step as the input to the next step.\n",
              "function _uploadFilesContinue(outputId) {\n",
              "  const outputElement = document.getElementById(outputId);\n",
              "  const steps = outputElement.steps;\n",
              "\n",
              "  const next = steps.next(outputElement.lastPromiseValue);\n",
              "  return Promise.resolve(next.value.promise).then((value) => {\n",
              "    // Cache the last promise value to make it available to the next\n",
              "    // step of the generator.\n",
              "    outputElement.lastPromiseValue = value;\n",
              "    return next.value.response;\n",
              "  });\n",
              "}\n",
              "\n",
              "/**\n",
              " * Generator function which is called between each async step of the upload\n",
              " * process.\n",
              " * @param {string} inputId Element ID of the input file picker element.\n",
              " * @param {string} outputId Element ID of the output display.\n",
              " * @return {!Iterable<!Object>} Iterable of next steps.\n",
              " */\n",
              "function* uploadFilesStep(inputId, outputId) {\n",
              "  const inputElement = document.getElementById(inputId);\n",
              "  inputElement.disabled = false;\n",
              "\n",
              "  const outputElement = document.getElementById(outputId);\n",
              "  outputElement.innerHTML = '';\n",
              "\n",
              "  const pickedPromise = new Promise((resolve) => {\n",
              "    inputElement.addEventListener('change', (e) => {\n",
              "      resolve(e.target.files);\n",
              "    });\n",
              "  });\n",
              "\n",
              "  const cancel = document.createElement('button');\n",
              "  inputElement.parentElement.appendChild(cancel);\n",
              "  cancel.textContent = 'Cancel upload';\n",
              "  const cancelPromise = new Promise((resolve) => {\n",
              "    cancel.onclick = () => {\n",
              "      resolve(null);\n",
              "    };\n",
              "  });\n",
              "\n",
              "  // Wait for the user to pick the files.\n",
              "  const files = yield {\n",
              "    promise: Promise.race([pickedPromise, cancelPromise]),\n",
              "    response: {\n",
              "      action: 'starting',\n",
              "    }\n",
              "  };\n",
              "\n",
              "  cancel.remove();\n",
              "\n",
              "  // Disable the input element since further picks are not allowed.\n",
              "  inputElement.disabled = true;\n",
              "\n",
              "  if (!files) {\n",
              "    return {\n",
              "      response: {\n",
              "        action: 'complete',\n",
              "      }\n",
              "    };\n",
              "  }\n",
              "\n",
              "  for (const file of files) {\n",
              "    const li = document.createElement('li');\n",
              "    li.append(span(file.name, {fontWeight: 'bold'}));\n",
              "    li.append(span(\n",
              "        `(${file.type || 'n/a'}) - ${file.size} bytes, ` +\n",
              "        `last modified: ${\n",
              "            file.lastModifiedDate ? file.lastModifiedDate.toLocaleDateString() :\n",
              "                                    'n/a'} - `));\n",
              "    const percent = span('0% done');\n",
              "    li.appendChild(percent);\n",
              "\n",
              "    outputElement.appendChild(li);\n",
              "\n",
              "    const fileDataPromise = new Promise((resolve) => {\n",
              "      const reader = new FileReader();\n",
              "      reader.onload = (e) => {\n",
              "        resolve(e.target.result);\n",
              "      };\n",
              "      reader.readAsArrayBuffer(file);\n",
              "    });\n",
              "    // Wait for the data to be ready.\n",
              "    let fileData = yield {\n",
              "      promise: fileDataPromise,\n",
              "      response: {\n",
              "        action: 'continue',\n",
              "      }\n",
              "    };\n",
              "\n",
              "    // Use a chunked sending to avoid message size limits. See b/62115660.\n",
              "    let position = 0;\n",
              "    do {\n",
              "      const length = Math.min(fileData.byteLength - position, MAX_PAYLOAD_SIZE);\n",
              "      const chunk = new Uint8Array(fileData, position, length);\n",
              "      position += length;\n",
              "\n",
              "      const base64 = btoa(String.fromCharCode.apply(null, chunk));\n",
              "      yield {\n",
              "        response: {\n",
              "          action: 'append',\n",
              "          file: file.name,\n",
              "          data: base64,\n",
              "        },\n",
              "      };\n",
              "\n",
              "      let percentDone = fileData.byteLength === 0 ?\n",
              "          100 :\n",
              "          Math.round((position / fileData.byteLength) * 100);\n",
              "      percent.textContent = `${percentDone}% done`;\n",
              "\n",
              "    } while (position < fileData.byteLength);\n",
              "  }\n",
              "\n",
              "  // All done.\n",
              "  yield {\n",
              "    response: {\n",
              "      action: 'complete',\n",
              "    }\n",
              "  };\n",
              "}\n",
              "\n",
              "scope.google = scope.google || {};\n",
              "scope.google.colab = scope.google.colab || {};\n",
              "scope.google.colab._files = {\n",
              "  _uploadFiles,\n",
              "  _uploadFilesContinue,\n",
              "};\n",
              "})(self);\n",
              "</script> "
            ]
          },
          "metadata": {}
        },
        {
          "output_type": "execute_result",
          "data": {
            "text/plain": [
              "{}"
            ]
          },
          "metadata": {},
          "execution_count": 30
        }
      ],
      "source": [
        "from google.colab import files\n",
        "files.upload()"
      ]
    },
    {
      "cell_type": "markdown",
      "source": [
        "# Predicción de temperatura\n"
      ],
      "metadata": {
        "id": "5MgEO2yycxjD"
      }
    },
    {
      "cell_type": "code",
      "source": [
        "hora = input('Ingresa la hora deseada a predecir: ') #09:00:00, 14:00:00, 21:00:00\n",
        "rutaArchivo = input('Ingresa el nombre del archivo EMA: ') #data/encb-7.csv\n",
        "\n",
        "X, Y = obtenerDS(hora, rutaArchivo)\n",
        "predictions_list = calculaPredicciones(hora, X)\n",
        "graficar(Y, predictions_list, hora)\n",
        "print(\"\\n\\n********************************************************\")\n",
        "print(\"La temperatura del día\", Y['Hora Local'][0], \"será:\", predictions_list[0])\n",
        "print(\"********************************************************\")"
      ],
      "metadata": {
        "colab": {
          "base_uri": "https://localhost:8080/",
          "height": 1000
        },
        "id": "_lIcy2pnlf3j",
        "outputId": "ad49b4c9-d31c-4075-99b6-c01193e5e00e"
      },
      "execution_count": 31,
      "outputs": [
        {
          "output_type": "stream",
          "name": "stdout",
          "text": [
            "Ingresa la hora deseada a predecir: 09:00:00\n",
            "Ingresa el nombre del archivo EMA: data/encb-7.csv\n",
            "\n",
            "---------------\n",
            "Temperatura de fecha a predecir (Temperatura d_t = 17.0): 2022-11-27 09:00:00\n",
            "Datos de t-1 días antes: 2022-11-26 09:00:00 [6.4, 9.7, 17.1, 87, 781.7, 0.0, 432]\n",
            "Datos pasados final: [6.4, 9.7, 17.1, 87, 781.7, 0.0, 432]\n",
            "---------------\n",
            "---------------\n",
            "Temperatura de fecha a predecir (Temperatura d_t = 17.1): 2022-11-26 09:00:00\n",
            "Datos de t-1 días antes: 2022-11-25 09:00:00 [5.2, 7.9, 16.2, 89, 780.8, 0.0, 383]\n",
            "Datos pasados final: [5.2, 7.9, 16.2, 89, 780.8, 0.0, 383]\n",
            "---------------\n",
            "---------------\n",
            "Temperatura de fecha a predecir (Temperatura d_t = 16.2): 2022-11-25 09:00:00\n",
            "Datos de t-1 días antes: 2022-11-24 09:00:00 [3.1, 5.1, 16.2, 94, 780.8, 0.0, 369]\n",
            "Datos pasados final: [3.1, 5.1, 16.2, 94, 780.8, 0.0, 369]\n",
            "---------------\n",
            "---------------\n",
            "Temperatura de fecha a predecir (Temperatura d_t = 16.2): 2022-11-24 09:00:00\n",
            "Datos de t-1 días antes: 2022-11-23 09:00:00 [4.2, 7.9, 13.0, 98, 782.0, 0.0, 207]\n",
            "Datos pasados final: [4.2, 7.9, 13.0, 98, 782.0, 0.0, 207]\n",
            "---------------\n",
            "---------------\n",
            "Temperatura de fecha a predecir (Temperatura d_t = 13.0): 2022-11-23 09:00:00\n",
            "Datos de t-1 días antes: 2022-11-22 09:00:00 [0.0, 0.0, 13.0, 91, 783.3, 0.0, 67]\n",
            "Datos pasados final: [0.0, 0.0, 13.0, 91, 783.3, 0.0, 67]\n",
            "---------------\n",
            "---------------\n",
            "Temperatura de fecha a predecir (Temperatura d_t = 13.0): 2022-11-22 09:00:00\n",
            "Datos de t-1 días antes: 2022-11-21 09:00:00 [6.4, 10.2, 15.0, 92, 782.5, 0.0, 368]\n",
            "Datos pasados final: [6.4, 10.2, 15.0, 92, 782.5, 0.0, 368]\n",
            "---------------\n",
            "---------------\n",
            "Temperatura de fecha a predecir (Temperatura d_t = 15.0): 2022-11-21 09:00:00\n",
            "Ya no hay más datos hacía atras, o la fecha 2022-11-20 09:00:00 no existe, se omite esta última instancia y termina la iteracion.\n",
            "tensor([[[15.5205],\n",
            "         [13.9065],\n",
            "         [14.2389],\n",
            "         [11.3581],\n",
            "         [12.2270],\n",
            "         [13.7407]]])\n"
          ]
        },
        {
          "output_type": "display_data",
          "data": {
            "text/plain": [
              "<IPython.core.display.Javascript object>"
            ],
            "application/javascript": [
              "\n",
              "    async function download(id, filename, size) {\n",
              "      if (!google.colab.kernel.accessAllowed) {\n",
              "        return;\n",
              "      }\n",
              "      const div = document.createElement('div');\n",
              "      const label = document.createElement('label');\n",
              "      label.textContent = `Downloading \"${filename}\": `;\n",
              "      div.appendChild(label);\n",
              "      const progress = document.createElement('progress');\n",
              "      progress.max = size;\n",
              "      div.appendChild(progress);\n",
              "      document.body.appendChild(div);\n",
              "\n",
              "      const buffers = [];\n",
              "      let downloaded = 0;\n",
              "\n",
              "      const channel = await google.colab.kernel.comms.open(id);\n",
              "      // Send a message to notify the kernel that we're ready.\n",
              "      channel.send({})\n",
              "\n",
              "      for await (const message of channel.messages) {\n",
              "        // Send a message to notify the kernel that we're ready.\n",
              "        channel.send({})\n",
              "        if (message.buffers) {\n",
              "          for (const buffer of message.buffers) {\n",
              "            buffers.push(buffer);\n",
              "            downloaded += buffer.byteLength;\n",
              "            progress.value = downloaded;\n",
              "          }\n",
              "        }\n",
              "      }\n",
              "      const blob = new Blob(buffers, {type: 'application/binary'});\n",
              "      const a = document.createElement('a');\n",
              "      a.href = window.URL.createObjectURL(blob);\n",
              "      a.download = filename;\n",
              "      div.appendChild(a);\n",
              "      a.click();\n",
              "      div.remove();\n",
              "    }\n",
              "  "
            ]
          },
          "metadata": {}
        },
        {
          "output_type": "display_data",
          "data": {
            "text/plain": [
              "<IPython.core.display.Javascript object>"
            ],
            "application/javascript": [
              "download(\"download_51272e6a-0c13-49ec-9a6a-6283dc2d5d9f\", \"pred.png\", 24809)"
            ]
          },
          "metadata": {}
        },
        {
          "output_type": "stream",
          "name": "stdout",
          "text": [
            "\n",
            "\n",
            "********************************************************\n",
            "La temperatura del día 2022-11-27 09:00:00 será: 15.52048397064209\n",
            "********************************************************\n"
          ]
        },
        {
          "output_type": "display_data",
          "data": {
            "text/plain": [
              "<Figure size 576x288 with 1 Axes>"
            ],
            "image/png": "[encoded data removed]"
          },
          "metadata": {
            "needs_background": "light"
          }
        }
      ]
    }
  ],
  "metadata": {
    "kernelspec": {
      "display_name": "Python 3",
      "language": "python",
      "name": "python3"
    },
    "language_info": {
      "codemirror_mode": {
        "name": "ipython",
        "version": 3
      },
      "file_extension": ".py",
      "mimetype": "text/x-python",
      "name": "python",
      "nbconvert_exporter": "python",
      "pygments_lexer": "ipython3",
      "version": "3.8.10"
    },
    "orig_nbformat": 4,
    "vscode": {
      "interpreter": {
        "hash": "916dbcbb3f70747c44a77c7bcd40155683ae19c65e1c03b4aa3499c5328201f1"
      }
    },
    "colab": {
      "provenance": [],
      "collapsed_sections": [
        "EI1RBC9_lIBk"
      ]
    }
  },
  "nbformat": 4,
  "nbformat_minor": 0
}